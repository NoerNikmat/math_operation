{
  "nbformat": 4,
  "nbformat_minor": 0,
  "metadata": {
    "colab": {
      "name": "LaTeX_python.ipynb",
      "provenance": [],
      "include_colab_link": true
    },
    "kernelspec": {
      "name": "python3",
      "display_name": "Python 3"
    }
  },
  "cells": [
    {
      "cell_type": "markdown",
      "metadata": {
        "id": "view-in-github",
        "colab_type": "text"
      },
      "source": [
        "<a href=\"https://colab.research.google.com/github/NoerNikmat/math_operation/blob/main/LaTeX_python.ipynb\" target=\"_parent\"><img src=\"https://colab.research.google.com/assets/colab-badge.svg\" alt=\"Open In Colab\"/></a>"
      ]
    },
    {
      "cell_type": "markdown",
      "metadata": {
        "id": "vSa-C98BYY6a"
      },
      "source": [
        "# Generates LaTeX math description from Python functions\r\n",
        "\r\n"
      ]
    },
    {
      "cell_type": "markdown",
      "metadata": {
        "id": "TAS_de9yadbm"
      },
      "source": [
        "The latexify package makes latex functions accessible to python programmers even without any knowledge of latex.\r\n",
        "\r\n",
        "The usage of the package is simple that have to import the latexify function. First of install in the programming IDE can choose to install it with pip or conda.\r\n",
        "\r\n",
        "References:\r\n",
        "\r\n",
        "- [Generating Latex from Python functions](https://towardsdatascience.com/generating-latex-from-python-functions-da06df79d9e4#:~:text=The%20latexify%20package%20makes%20latex,without%20any%20knowledge%20of%20latex.&text=After%20installing%20it%20you%20can,and%20recurrences%20using%20this%20method.)\r\n",
        "\r\n",
        "- [Latexify project description](https://pypi.org/project/latexify-py/)"
      ]
    },
    {
      "cell_type": "markdown",
      "metadata": {
        "id": "gcKj_zRzakRs"
      },
      "source": [
        "# Programming "
      ]
    },
    {
      "cell_type": "markdown",
      "metadata": {
        "id": "huSdnLcSanuc"
      },
      "source": [
        "For install package \r\n",
        "\r\n",
        "\r\n",
        "```\r\n",
        "!pip install latexify-py\r\n",
        "```\r\n",
        "\r\n",
        "For uninstall package\r\n",
        "\r\n",
        "\r\n",
        "```\r\n",
        "!pip uninstall -y latexify-py\r\n",
        "```\r\n",
        "\r\n"
      ]
    },
    {
      "cell_type": "code",
      "metadata": {
        "id": "4IPGyu2dFH6T",
        "colab": {
          "base_uri": "https://localhost:8080/"
        },
        "outputId": "68b287d5-144d-46db-f943-9e498e07bbfc"
      },
      "source": [
        "!pip install latexify-py"
      ],
      "execution_count": 1,
      "outputs": [
        {
          "output_type": "stream",
          "text": [
            "Collecting latexify-py\n",
            "  Downloading https://files.pythonhosted.org/packages/8c/6a/175030a092f1fb35d9e2e40eb00e9a7e69b792e09cabd14e97904a82ee67/latexify_py-0.0.7-py3-none-any.whl\n",
            "Requirement already satisfied: dill>=0.3.2 in /usr/local/lib/python3.6/dist-packages (from latexify-py) (0.3.3)\n",
            "Installing collected packages: latexify-py\n",
            "Successfully installed latexify-py-0.0.7\n"
          ],
          "name": "stdout"
        }
      ]
    },
    {
      "cell_type": "markdown",
      "metadata": {
        "id": "s1ue3tWYYY3_"
      },
      "source": [
        "Before running following cells, restart the runtime so that the installed module is activated."
      ]
    },
    {
      "cell_type": "code",
      "metadata": {
        "id": "hViDMhyMFNCO"
      },
      "source": [
        "import math\n",
        "import latexify"
      ],
      "execution_count": 1,
      "outputs": []
    },
    {
      "cell_type": "code",
      "metadata": {
        "id": "NvbEYSwXFaeE",
        "colab": {
          "base_uri": "https://localhost:8080/",
          "height": 109
        },
        "outputId": "1cc0ba50-1c9a-44a8-ea5a-b5733cff7a9d"
      },
      "source": [
        "@latexify.with_latex\n",
        "def solve(a, b, c):\n",
        "  return (-b + math.sqrt(b**2 - 4*a*c)) / (2*a)\n",
        "\n",
        "print(solve(1, 4, 3))\n",
        "print(solve)\n",
        "print()\n",
        "solve"
      ],
      "execution_count": 2,
      "outputs": [
        {
          "output_type": "stream",
          "text": [
            "-1.0\n",
            "\\mathrm{solve}(a, b, c)\\triangleq \\frac{-b + \\sqrt{b^{2} - 4ac}}{2a}\n",
            "\n"
          ],
          "name": "stdout"
        },
        {
          "output_type": "execute_result",
          "data": {
            "text/latex": "$$ \\displaystyle \\mathrm{solve}(a, b, c)\\triangleq \\frac{-b + \\sqrt{b^{2} - 4ac}}{2a} $$",
            "text/plain": [
              "<latexify.core.with_latex.<locals>._LatexifiedFunction at 0x7f1071fcde80>"
            ]
          },
          "metadata": {
            "tags": []
          },
          "execution_count": 2
        }
      ]
    },
    {
      "cell_type": "code",
      "metadata": {
        "id": "8bYSWIngGF8E",
        "colab": {
          "base_uri": "https://localhost:8080/",
          "height": 60
        },
        "outputId": "c9a2c285-5e69-4e61-d31f-ed7b6e4f2fec"
      },
      "source": [
        "@latexify.with_latex\n",
        "def sinc(x):\n",
        "  if x == 0:\n",
        "    return 1\n",
        "  else:\n",
        "    return math.sin(x) / x\n",
        "\n",
        "sinc"
      ],
      "execution_count": 3,
      "outputs": [
        {
          "output_type": "execute_result",
          "data": {
            "text/latex": "$$ \\displaystyle \\mathrm{sinc}(x)\\triangleq \\left\\{ \\begin{array}{ll} 1, & \\mathrm{if} \\ x=0 \\\\ \\frac{\\sin{\\left({x}\\right)}}{x}, & \\mathrm{otherwise} \\end{array} \\right. $$",
            "text/plain": [
              "<latexify.core.with_latex.<locals>._LatexifiedFunction at 0x7f1071fe4898>"
            ]
          },
          "metadata": {
            "tags": []
          },
          "execution_count": 3
        }
      ]
    },
    {
      "cell_type": "markdown",
      "metadata": {
        "id": "8-BcdUtUbmJk"
      },
      "source": [
        "Elif or nested else-if are unrolled."
      ]
    },
    {
      "cell_type": "code",
      "metadata": {
        "id": "h1i4BjdgHjxl",
        "colab": {
          "base_uri": "https://localhost:8080/",
          "height": 79
        },
        "outputId": "a2913144-c7c2-470a-bf8a-369caadbc9f2"
      },
      "source": [
        "@latexify.with_latex\n",
        "def fib(x):\n",
        "  if x == 0:\n",
        "    return 1\n",
        "  elif x == 1:\n",
        "    return 1\n",
        "  else:\n",
        "    return fib(x-1) + fib(x-2)\n",
        "\n",
        "fib"
      ],
      "execution_count": 4,
      "outputs": [
        {
          "output_type": "execute_result",
          "data": {
            "text/latex": "$$ \\displaystyle \\mathrm{fib}(x)\\triangleq \\left\\{ \\begin{array}{ll} 1, & \\mathrm{if} \\ x=0 \\\\ 1, & \\mathrm{if} \\ x=1 \\\\ \\mathrm{fib}\\left(x - 1\\right) + \\mathrm{fib}\\left(x - 2\\right), & \\mathrm{otherwise} \\end{array} \\right. $$",
            "text/plain": [
              "<latexify.core.with_latex.<locals>._LatexifiedFunction at 0x7f1071fcdf98>"
            ]
          },
          "metadata": {
            "tags": []
          },
          "execution_count": 4
        }
      ]
    },
    {
      "cell_type": "markdown",
      "metadata": {
        "id": "IzfhB1EkbqNl"
      },
      "source": [
        "Some math symbols are converted automatically."
      ]
    },
    {
      "cell_type": "code",
      "metadata": {
        "id": "-JhJMAXM7j-X",
        "colab": {
          "base_uri": "https://localhost:8080/",
          "height": 38
        },
        "outputId": "5b726cfc-a1cd-4fe9-caaf-e31de02c386a"
      },
      "source": [
        "@latexify.with_latex\n",
        "def greek(alpha, beta, gamma, Omega):\n",
        "  return alpha * beta + math.gamma(gamma) + Omega\n",
        "\n",
        "greek"
      ],
      "execution_count": 5,
      "outputs": [
        {
          "output_type": "execute_result",
          "data": {
            "text/latex": "$$ \\displaystyle \\mathrm{greek}({\\alpha}, {\\beta}, {\\gamma}, {\\Omega})\\triangleq {\\alpha}{\\beta} + \\Gamma\\left({{\\gamma}}\\right) + {\\Omega} $$",
            "text/plain": [
              "<latexify.core.with_latex.<locals>._LatexifiedFunction at 0x7f1071fe45c0>"
            ]
          },
          "metadata": {
            "tags": []
          },
          "execution_count": 5
        }
      ]
    }
  ]
}